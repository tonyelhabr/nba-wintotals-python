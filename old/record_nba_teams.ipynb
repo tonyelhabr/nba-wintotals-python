{
 "cells": [
  {
   "cell_type": "code",
   "execution_count": 71,
   "metadata": {
    "collapsed": true
   },
   "outputs": [],
   "source": [
    "# Created by: Anthony ElHabr\n",
    "# Purpose: Extract NBA teams from espn.go.com\n",
    "# Modified from: http://danielfrg.com/blog/2013/04/01/nba-scraping-data/\n",
    "# Only need to run this script once\n",
    "\n",
    "# import requests\n",
    "from urllib2 import urlopen\n",
    "import pandas as pd\n",
    "from bs4 import BeautifulSoup\n",
    "\n",
    "url = \"http://espn.go.com/nba/teams\"\n",
    "# r = requests.get(url)\n",
    "# soup = BeautifulSoup(r.text)\n",
    "html = urlopen(url)\n",
    "soup = BeautifulSoup(html, 'html.parser')\n",
    "\n",
    "# 'ul' tag = unorganized list\n",
    "# class_ arg specificies a CSS class (it is used instead of just simply \"class\"\n",
    "# because class is a reserved keyword in python)\n",
    "all_tables = soup.find_all('ul', class_='medium-logos')"
   ]
  },
  {
   "cell_type": "code",
   "execution_count": 72,
   "metadata": {
    "collapsed": true
   },
   "outputs": [],
   "source": [
    "team_name = []\n",
    "team_abbrv = []\n",
    "team_url_name = []\n",
    "team_url = []\n",
    "\n",
    "for table in all_tables:\n",
    "    li_tags = table.find_all('li')\n",
    "    for li in li_tags:\n",
    "        li_data = li.h5.a\n",
    "        team_name.append(li_data.text)\n",
    "        li_url = li_data['href']\n",
    "        team_url.append(li_url)\n",
    "        team_abbrv.append(li_url.split('/')[-2])\n",
    "        team_url_name.append(li_url.split('/')[-1])"
   ]
  },
  {
   "cell_type": "code",
   "execution_count": 73,
   "metadata": {
    "collapsed": false
   },
   "outputs": [],
   "source": [
    "team_abbrv = [abbrv.upper() for abbrv in team_abbrv]\n",
    "\n",
    "teams_db_list = []\n",
    "set_of_lists = [team_name, team_abbrv, team_url_name, team_url]\n",
    "\n",
    "for i in range(len(team_name)):\n",
    "    single_item = []\n",
    "    \n",
    "    for j in set_of_lists:\n",
    "        single_item.append(j[i])\n",
    "    \n",
    "    teams_db_list.append(single_item)\n",
    "\n",
    "# teams_db_list"
   ]
  },
  {
   "cell_type": "code",
   "execution_count": 74,
   "metadata": {
    "collapsed": false
   },
   "outputs": [],
   "source": [
    "df_col_headers = ['team_name', 'team_abbrv', 'team_url_name', 'team_url']\n",
    "# should sort by ascending team_name\n",
    "teams_df = pd.DataFrame(teams_db_list, columns=df_col_headers)\n",
    "teams_df = teams_df.sort_values(by='team_name', ascending=True).reset_index()\n",
    "del teams_df['index']\n",
    "\n",
    "# teams_df"
   ]
  },
  {
   "cell_type": "code",
   "execution_count": 75,
   "metadata": {
    "collapsed": false
   },
   "outputs": [],
   "source": [
    "'''\n",
    "# NOTE: dict does produce df in same order because it uses hashing to reorganize\n",
    "# the data that it is given\n",
    "teams_dict = {'team_name': team_name,\\\n",
    "              'team_abbrv': team_abbrv,\\\n",
    "              'team_url_name': team_url_name,\\\n",
    "              'team_url': team_url}\n",
    "\n",
    "teams_df2 = pd.DataFrame(teams_dict)\n",
    "\n",
    "# teams_df2\n",
    "'''\n",
    "pass"
   ]
  },
  {
   "cell_type": "code",
   "execution_count": 76,
   "metadata": {
    "collapsed": false
   },
   "outputs": [],
   "source": [
    "import os\n",
    "\n",
    "# teams_df.to_csv('nba-teams.csv', index=False)\n",
    "if not os.path.isfile('nba-teams.csv'):\n",
    "    teams_df.to_csv('nba-teams.csv', index=False)\n",
    "    print \"Creating new file\"\n",
    "else:\n",
    "    print \"Need to delete existing file before creating new one\"\n",
    "    # print \"Overwriting existing file\""
   ]
  },
  {
   "cell_type": "code",
   "execution_count": null,
   "metadata": {
    "collapsed": true
   },
   "outputs": [],
   "source": []
  }
 ],
 "metadata": {
  "celltoolbar": "Raw Cell Format",
  "kernelspec": {
   "display_name": "Python 2",
   "language": "python",
   "name": "python2"
  },
  "language_info": {
   "codemirror_mode": {
    "name": "ipython",
    "version": 2
   },
   "file_extension": ".py",
   "mimetype": "text/x-python",
   "name": "python",
   "nbconvert_exporter": "python",
   "pygments_lexer": "ipython2",
   "version": "2.7.11"
  }
 },
 "nbformat": 4,
 "nbformat_minor": 0
}
