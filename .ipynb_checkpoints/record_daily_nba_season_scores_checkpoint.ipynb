{
 "cells": [
  {
   "cell_type": "code",
   "execution_count": 1,
   "metadata": {
    "collapsed": false
   },
   "outputs": [],
   "source": [
    "# Created by: Anthony ElHabr\n",
    "# Purpose: Extract scores for every NBA team for a given season (including current season) from espn.go.com\n",
    "# Modified from: http://danielfrg.com/blog/2013/04/01/nba-scraping-data/\n",
    "\n",
    "# import requests\n",
    "from urllib2 import urlopen\n",
    "import pandas as pd\n",
    "from bs4 import BeautifulSoup\n",
    "import re\n",
    "import os\n",
    "from collections import OrderedDict\n",
    "from datetime import datetime, date\n",
    "import csv\n",
    "\n",
    "\n",
    "year = 2016\n",
    "sportsbooks = ['Westage', 'PinnacleSports.com', '5Dimes.eu',\n",
    "               'BOVADA.lv', 'BETONLINE.ag', 'SportsBetting.ag']\n",
    "teams_df = pd.read_csv(\"csvs\\\\nba-teams.csv\", index_col=False)\n",
    "# betting_df = pd.read_csv(\"nba-betting-lines.csv\", index_col=False)\n",
    "url_template = \"http://espn.go.com/nba/team/schedule/_/name/{0}/year/{1}/{2}\"\n",
    "\n",
    "# TODO:\n",
    "# 1) find games in betting_df without scores recorded\n",
    "# 2) record scores\n",
    "# 3) calculate betting line results"
   ]
  },
  {
   "cell_type": "code",
   "execution_count": 13,
   "metadata": {
    "collapsed": false
   },
   "outputs": [
    {
     "name": "stdout",
     "output_type": "stream",
     "text": [
      "03/17/2016\n",
      "list index out of range\n",
      "03/19/2016\n",
      "'NoneType' object has no attribute '__getitem__'\n",
      "03/21/2016\n",
      "'NoneType' object has no attribute '__getitem__'\n",
      "03/23/2016\n",
      "'NoneType' object has no attribute '__getitem__'\n",
      "03/25/2016\n",
      "'NoneType' object has no attribute '__getitem__'\n",
      "03/26/2016\n",
      "'NoneType' object has no attribute '__getitem__'\n",
      "03/28/2016\n",
      "'NoneType' object has no attribute '__getitem__'\n",
      "03/30/2016\n",
      "'NoneType' object has no attribute '__getitem__'\n",
      "04/01/2016\n",
      "'NoneType' object has no attribute '__getitem__'\n",
      "04/05/2016\n",
      "'NoneType' object has no attribute '__getitem__'\n",
      "04/07/2016\n",
      "'NoneType' object has no attribute '__getitem__'\n",
      "04/09/2016\n",
      "'NoneType' object has no attribute '__getitem__'\n",
      "04/11/2016\n",
      "'NoneType' object has no attribute '__getitem__'\n",
      "04/13/2016\n",
      "'NoneType' object has no attribute '__getitem__'\n",
      "Finished getting scores for ATL in 0:00:01.263000 s\n",
      "Finished getting all scores for 2016 in 0:00:01.267000 s\n"
     ]
    }
   ],
   "source": [
    "start_all = datetime.now()\n",
    "for index, row in teams_df.iterrows():\n",
    "    start = datetime.now()\n",
    "\n",
    "    team_abbrv = row['team_abbrv']\n",
    "\n",
    "    # r = request.get(url_template.formatrow['team_abbrv'].lower(), year, row['team_url_name'])\n",
    "    # schedule_table = BeautifulSoup(r.text).table\n",
    "    url = url_template.format(\n",
    "        row['team_abbrv'].lower(), year, row['team_url_name'])\n",
    "    html = urlopen(url)\n",
    "    soup = BeautifulSoup(html, 'html.parser')\n",
    "\n",
    "    # schedule_table = soup.table\n",
    "    # sched_data = soup.find_all(name='tr', attrs={'class':re.compile('oddrow'), 'class':re.compile('evenrow')})\n",
    "    sched_data = soup.find_all(name='tr', attrs={'class': re.compile('row')})\n",
    "\n",
    "# function call here\n",
    "    sched_dict_keys = ['game_id', 'season_yr', 'game_date', 'team_schedule', 'win_flag', 'wins_to_date', 'losses_to_date', 'home_flag', 'home_team', 'home_score', 'away_team', 'away_score']\n",
    "    sched_dict = OrderedDict((key, []) for key in sched_dict_keys)\n",
    "\n",
    "    for row in sched_data:\n",
    "        # print row\n",
    "        cols = row.find_all('td')\n",
    "\n",
    "        sched_dict['season_yr'].append(year)\n",
    "\n",
    "        try:\n",
    "            date_raw = cols[0].text\n",
    "            date_nums = datetime.strptime(date_raw, '%a, %b %d')\n",
    "            date_month = date_nums.month\n",
    "            date_day = date_nums.day\n",
    "\n",
    "            if date_month > 7:\n",
    "                date_fixed = date(year-1, date_month, date_day)\n",
    "            else:\n",
    "                date_fixed = date(year, date_month, date_day)\n",
    "        except:\n",
    "            print \"Leap day\"\n",
    "            date_fixed = date(year, 2, 29)\n",
    "\n",
    "        game_date = date_fixed.strftime('%m/%d/%Y')\n",
    "        sched_dict['game_date'].append(game_date)\n",
    "        \n",
    "        sched_dict['team_schedule'].append(team_abbrv)\n",
    "\n",
    "        home_bool = True if cols[1].li.text == 'vs' else False\n",
    "        sched_dict['home_flag'].append('1' if home_bool else '0')\n",
    "\n",
    "        # text == '@' if team is away_team\n",
    "        # other_team = cols[1].find_all('a')[1].text\n",
    "        other_team_abbrv = cols[1].find_all('a')[1]['href'].split('/')[-2]\n",
    "\n",
    "        home_team = team_abbrv if home_bool else other_team_abbrv\n",
    "        home_team = home_team.upper()\n",
    "        sched_dict['home_team'].append(home_team)\n",
    "\n",
    "        away_team = team_abbrv if not home_bool else other_team_abbrv\n",
    "        away_team = away_team.upper()\n",
    "        sched_dict['away_team'].append(away_team)\n",
    "\n",
    "        try:\n",
    "            sched_dict['game_id'].append(cols[2].a['href'].split('recap?id=')[1])\n",
    "\n",
    "            win_bool = True if cols[2].span.text == 'W' else False\n",
    "            sched_dict['win_flag'].append('1' if win_bool else '0')\n",
    "\n",
    "            wl_record = cols[3].text.split('-')\n",
    "            sched_dict['wins_to_date'].append(wl_record[0])\n",
    "            sched_dict['losses_to_date'].append(wl_record[1])\n",
    "\n",
    "            # split(' ') is to ignore possible 'OT' label\n",
    "            both_scores = cols[2].a.text.split(' ')[0].split('-')\n",
    "            if home_bool:\n",
    "                if win_bool:\n",
    "                    sched_dict['home_score'].append(both_scores[0])\n",
    "                    sched_dict['away_score'].append(both_scores[1])\n",
    "                else:\n",
    "                    sched_dict['home_score'].append(both_scores[0])\n",
    "                    sched_dict['away_score'].append(both_scores[1])\n",
    "            else:\n",
    "                if win_bool:\n",
    "                    sched_dict['home_score'].append(both_scores[1])\n",
    "                    sched_dict['away_score'].append(both_scores[0])\n",
    "                else:\n",
    "                    sched_dict['home_score'].append(both_scores[0])\n",
    "                    sched_dict['away_score'].append(both_scores[1])\n",
    "        except Exception as error:\n",
    "            print game_date\n",
    "            print error\n",
    "            default_val = 'N/A'\n",
    "            sched_dict['game_id'].append(default_val)\n",
    "            sched_dict['win_flag'].append(default_val)\n",
    "            sched_dict['wins_to_date'].append(default_val)\n",
    "            sched_dict['losses_to_date'].append(default_val)\n",
    "            sched_dict['home_score'].append(default_val)\n",
    "            sched_dict['away_score'].append(default_val)\n",
    "\n",
    "    end = datetime.now()\n",
    "    time_diff = end - start\n",
    "    print \"Finished getting scores for {0} in {1} s\".format(team_abbrv, time_diff)\n",
    "\n",
    "end_all = datetime.now()\n",
    "time_diff_all = end_all - start_all\n",
    "print \"Finished getting all scores for {0} in {1} s\".format(year, time_diff_all)"
   ]
  },
  {
   "cell_type": "code",
   "execution_count": 15,
   "metadata": {
    "collapsed": false
   },
   "outputs": [
    {
     "name": "stdout",
     "output_type": "stream",
     "text": [
      "game_id 82\n",
      "season_yr 82\n",
      "game_date 82\n"
     ]
    }
   ],
   "source": [
    "sched_dict_items = sched_dict.items()\n",
    "\n",
    "for key, value in sched_dict_items[:]:\n",
    "    print key, len(value)"
   ]
  },
  {
   "cell_type": "code",
   "execution_count": 17,
   "metadata": {
    "collapsed": false
   },
   "outputs": [
    {
     "name": "stdout",
     "output_type": "stream",
     "text": [
      "Creating new file 'nba-season-scores-2016.csv'\n"
     ]
    }
   ],
   "source": [
    "scores_df = pd.DataFrame(sched_dict)\n",
    "\n",
    "scores_f = 'csvs\\\\nba-season-scores-{0}.csv'.format(year)\n",
    "if not os.path.isfile(scores_f):\n",
    "    scores_df.to_csv(scores_f, index=False)\n",
    "    print \"Creating new file '{0}'\".format(scores_f)\n",
    "else:\n",
    "    print \"Failed to log data to existing {0}\".format(scores_f)\n",
    "    print \"Please delete the existing file.\""
   ]
  },
  {
   "cell_type": "code",
   "execution_count": null,
   "metadata": {
    "collapsed": true
   },
   "outputs": [],
   "source": []
  }
 ],
 "metadata": {
  "kernelspec": {
   "display_name": "Python 2",
   "language": "python",
   "name": "python2"
  },
  "language_info": {
   "codemirror_mode": {
    "name": "ipython",
    "version": 2
   },
   "file_extension": ".py",
   "mimetype": "text/x-python",
   "name": "python",
   "nbconvert_exporter": "python",
   "pygments_lexer": "ipython2",
   "version": "2.7.11"
  }
 },
 "nbformat": 4,
 "nbformat_minor": 0
}
