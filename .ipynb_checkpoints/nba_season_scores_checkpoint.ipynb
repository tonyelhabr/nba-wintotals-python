{
 "cells": [
  {
   "cell_type": "code",
   "execution_count": null,
   "metadata": {
    "collapsed": false
   },
   "outputs": [],
   "source": [
    "# Created by: Anthony ElHabr\n",
    "# Purpose: Extract scores for every NBA team for a given season from espn.go.com\n",
    "# Modified from: http://danielfrg.com/blog/2013/04/01/nba-scraping-data/\n",
    "# Only need to run this script once\n",
    "\n",
    "# import requests\n",
    "from urllib2 import urlopen\n",
    "import pandas as pd\n",
    "from bs4 import BeautifulSoup\n",
    "from datetime import datetime, date\n",
    "\n",
    "YEAR = 2012\n",
    "teams_df = pd.read_csv(\"nba-teams.csv\", index_col=False)\n",
    "url_template = \"http://espn.go.com/nba/team/schedule/_/name/{0}/year/{1}/{2}\"\n",
    "\n",
    "# teams_df"
   ]
  },
  {
   "cell_type": "code",
   "execution_count": null,
   "metadata": {
    "collapsed": false
   },
   "outputs": [],
   "source": [
    "start_all = datetime.now()\n",
    "\n",
    "game_id = []\n",
    "season_yr = []\n",
    "game_date = []\n",
    "team_schedule = []\n",
    "win_flag = []\n",
    "wins_to_date = []\n",
    "losses_to_date = []\n",
    "home_flag = []\n",
    "home_team = []\n",
    "home_score = []\n",
    "away_team = []\n",
    "away_score = []\n",
    "\n",
    "for index, row in teams_df.iterrows():\n",
    "    start = datetime.now()\n",
    "    \n",
    "    team_abbrv = row['team_abbrv']\n",
    "\n",
    "    # r = request.get(url_template.formatrow['team_abbrv'].lower(),\\\n",
    "    #                          YEAR, row['team_url_name'])\n",
    "    # schedule_table = BeautifulSoup(r.text).table\n",
    "    url = url_template.format(row['team_abbrv'].lower(),\\\n",
    "                              YEAR, row['team_url_name'])\n",
    "    html = urlopen(url)\n",
    "    soup = BeautifulSoup(html, 'html.parser')\n",
    "    schedule_table = soup.table\n",
    "\n",
    "    # ignore class=\"stathead\" row\n",
    "    for row in schedule_table.find_all('tr')[1:]:\n",
    "        columns = row.find_all('td')\n",
    "        \n",
    "        # try/except block will skip class=\"colhead\" rows\n",
    "        # and only parse class=\"oddrow...\" and class=\"evenrow...\" rows\n",
    "        try:\n",
    "            game_id.append(columns[2].a['href'].split('?id=')[1])\n",
    "            \n",
    "            season_yr.append(YEAR)\n",
    "\n",
    "            try:\n",
    "                d = datetime.strptime(columns[0].text, '%a, %b %d')\n",
    "\n",
    "                if d.month > 7:\n",
    "                    d = date(YEAR-1, d.month, d.day)\n",
    "                else:\n",
    "                    d = date(YEAR, d.month, d.day)\n",
    "            except:\n",
    "                d = date(YEAR, 2, 29)\n",
    "            \n",
    "            d = d.strftime('%m/%d/%Y')\n",
    "            game_date.append(d)\n",
    "            \n",
    "            team_schedule.append(team_abbrv)\n",
    "\n",
    "            win_boolean = True if columns[2].span.text == 'W' else False\n",
    "            win_flag.append('1' if win_boolean else '0')\n",
    "            \n",
    "            win_loss_record = columns[3].text.split('-')\n",
    "            wins_to_date.append(win_loss_record[0])\n",
    "            losses_to_date.append(win_loss_record[1])\n",
    "            \n",
    "            home_boolean = True if columns[1].li.text == 'vs' else False\n",
    "            home_flag.append('1' if home_boolean else '0')\n",
    "            \n",
    "            # text == '@' if team is away_team\n",
    "            other_team_name = columns[1].find_all('a')[1].text\n",
    "            other_team_abbrv = columns[1].find_all('a')[1]\\\n",
    "            ['href'].split('/')[-2]\n",
    "            home_team_abbrv = team_abbrv if home_boolean else other_team_abbrv\n",
    "            home_team_abbrv = home_team_abbrv.upper()\n",
    "            home_team.append(home_team_abbrv)\n",
    "            away_team_abbrv = team_abbrv if not home_boolean else other_team_abbrv\n",
    "            away_team_abbrv = away_team_abbrv.upper()\n",
    "            away_team.append(away_team_abbrv)\n",
    "\n",
    "            # split(' ') is to ignore possible 'OT' label\n",
    "            both_scores = columns[2].a.text.split(' ')[0].split('-')\n",
    "            if home_boolean:\n",
    "                if win_boolean:\n",
    "                    home_score.append(both_scores[0])\n",
    "                    away_score.append(both_scores[1])\n",
    "                else:\n",
    "                    home_score.append(both_scores[1])\n",
    "                    away_score.append(both_scores[0])\n",
    "            else:\n",
    "                if win_boolean:\n",
    "                    home_score.append(both_scores[1])\n",
    "                    away_score.append(both_scores[0])\n",
    "                else:\n",
    "                    home_score.append(both_scores[0])\n",
    "                    away_score.append(both_scores[1])\n",
    "        except Exception as e:\n",
    "            pass\n",
    "            # print(e)\n",
    "\n",
    "    end = datetime.now()\n",
    "    time_diff = end - start\n",
    "    print \"Finished getting scores for {0} in {1} s\".format(team_abbrv, time_diff)\n",
    "\n",
    "end_all = datetime.now()\n",
    "time_diff_all = end_all - start_all\n",
    "print \"Finished getting all scores in {0} s\".format(time_diff_all)            "
   ]
  },
  {
   "cell_type": "code",
   "execution_count": null,
   "metadata": {
    "collapsed": false
   },
   "outputs": [],
   "source": [
    "games_db_list = []\n",
    "set_of_lists = [game_id, season_yr, game_date,\\\n",
    "                team_schedule, win_flag,\\\n",
    "                wins_to_date, losses_to_date, home_flag,\\\n",
    "                home_team, away_team, home_score, away_score]\n",
    "\n",
    "# for l in set_of_lists:\n",
    "#     print len(l)\n",
    "\n",
    "for i in range(len(game_id)):\n",
    "    single_item = []\n",
    "    \n",
    "    for j in set_of_lists:\n",
    "        single_item.append(j[i])\n",
    "    \n",
    "    games_db_list.append(single_item)\n",
    "\n",
    "# games_db_list"
   ]
  },
  {
   "cell_type": "code",
   "execution_count": null,
   "metadata": {
    "collapsed": false
   },
   "outputs": [],
   "source": [
    "df_col_headers = ['game_id', 'season_yr', 'game_date',\\\n",
    "                  'team_schedule', 'win_flag',\\\n",
    "                  'wins_to_date', 'losses_to_date', 'home_flag',\\\n",
    "                  'home_team', 'away_team', 'home_score', 'away_score']\n",
    "scores_df = pd.DataFrame(games_db_list, columns=df_col_headers)\n",
    "\n",
    "# scores_df"
   ]
  },
  {
   "cell_type": "code",
   "execution_count": null,
   "metadata": {
    "collapsed": false
   },
   "outputs": [],
   "source": [
    "'''\n",
    "# NOTE: dict does produce df in same order because it uses hashing to reorganize\n",
    "# the data that it is given\n",
    "games_dict = {'game_id': game_id,\\\n",
    "              'game_date': game_date,\\\n",
    "              'home_team': home_team,\\\n",
    "              'away_team': away_team,\\\n",
    "              'home_team_score': home_team_score,\\\n",
    "              'away_team_score': away_team_score}\n",
    "\n",
    "# print len(game_id), len(game_date), len(home_team), len(away_team),\\\n",
    "# len(home_team_score), len(away_team_score)\n",
    "\n",
    "games_df = pd.DataFrame(games_dict).drop_duplicates(subset='game_id').\\\n",
    "set_index('game_id')\n",
    "\n",
    "# games_df.head\n",
    "'''\n",
    "pass"
   ]
  },
  {
   "cell_type": "code",
   "execution_count": null,
   "metadata": {
    "collapsed": false
   },
   "outputs": [],
   "source": [
    "import os\n",
    "\n",
    "f = 'nba-season-scores-{0}.csv'.format(YEAR)\n",
    "if not os.path.isfile(f):\n",
    "    scores_df.to_csv(f, index=False)\n",
    "    print \"Creating new file '{0}'\".format(f)\n",
    "else:\n",
    "    print \"Need to delete existing {0} before creating new one\".format(f)\n",
    "    # print \"Overwriting existing file\""
   ]
  },
  {
   "cell_type": "code",
   "execution_count": null,
   "metadata": {
    "collapsed": true
   },
   "outputs": [],
   "source": []
  }
 ],
 "metadata": {
  "celltoolbar": "Raw Cell Format",
  "kernelspec": {
   "display_name": "Python 2",
   "language": "python",
   "name": "python2"
  },
  "language_info": {
   "codemirror_mode": {
    "name": "ipython",
    "version": 2
   },
   "file_extension": ".py",
   "mimetype": "text/x-python",
   "name": "python",
   "nbconvert_exporter": "python",
   "pygments_lexer": "ipython2",
   "version": "2.7.11"
  }
 },
 "nbformat": 4,
 "nbformat_minor": 0
}
