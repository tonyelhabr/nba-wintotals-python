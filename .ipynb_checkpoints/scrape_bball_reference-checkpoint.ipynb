{
 "cells": [
  {
   "cell_type": "code",
   "execution_count": 1,
   "metadata": {
    "collapsed": true
   },
   "outputs": [],
   "source": [
    "from urllib.request import urlopen\n",
    "import pandas as pd\n",
    "from bs4 import BeautifulSoup\n",
    "import re\n",
    "import os\n",
    "from collections import OrderedDict\n",
    "from datetime import datetime, date\n",
    "import csv\n"
   ]
  },
  {
   "cell_type": "code",
   "execution_count": 57,
   "metadata": {
    "collapsed": false
   },
   "outputs": [],
   "source": [
    "year = 2015\n",
    "# url_template = \"http://espn.go.com/nba/team/schedule/_/name/{0}/year/{1}/{2}\"\n",
    "url_template = \"http://espn.go.com/nba/team/schedule/_/name/{0}/year/{1}/seasontype/2\"\n",
    "teams_f = \"csvs\\\\nba_teams.csv\"\n",
    "teams_df = pd.read_csv(teams_f, index_col=False)\n",
    "\n",
    "all_teams = list(teams_df.team_abbrv.values.flatten())\n",
    "\n",
    "# timestamp = get_timestamp()\n",
    "\n",
    "# scores_f = 'csvs\\\\nba-season-scores-{0}.csv'.format(year)"
   ]
  },
  {
   "cell_type": "code",
   "execution_count": 58,
   "metadata": {
    "collapsed": false
   },
   "outputs": [
    {
     "data": {
      "text/plain": [
       "'http://espn.go.com/nba/team/schedule/_/name/atl/year/2015/atlanta-hawks'"
      ]
     },
     "execution_count": 58,
     "metadata": {},
     "output_type": "execute_result"
    }
   ],
   "source": [
    "teams_df = teams_df.iloc[0:1,]\n",
    "teams_df\n",
    "url"
   ]
  },
  {
   "cell_type": "code",
   "execution_count": 59,
   "metadata": {
    "collapsed": true
   },
   "outputs": [],
   "source": [
    "scores_dict_keys = ['game_id', 'season_yr', 'game_date', 'team_schedule', 'win_flag', 'wins_to_date',\n",
    "                    'losses_to_date', 'home_flag', 'home_team', 'home_score', 'away_team', 'away_score']\n",
    "scores_dict = OrderedDict((key, []) for key in scores_dict_keys)"
   ]
  },
  {
   "cell_type": "code",
   "execution_count": 60,
   "metadata": {
    "collapsed": false
   },
   "outputs": [
    {
     "name": "stdout",
     "output_type": "stream",
     "text": [
      "Finished getting scores for ATL in 0:00:01.816459 s\n",
      "Finished getting all scores for 2015 in 0:00:01.820431 s\n",
      "game_id 82\n",
      "season_yr 82\n",
      "game_date 82\n",
      "team_schedule 82\n",
      "win_flag 82\n",
      "wins_to_date 82\n",
      "losses_to_date 82\n",
      "home_flag 82\n",
      "home_team 82\n",
      "home_score 82\n",
      "away_team 82\n",
      "away_score 82\n"
     ]
    }
   ],
   "source": [
    "start_all = datetime.now()\n",
    "for index, row in teams_df.iterrows():\n",
    "    start = datetime.now()\n",
    "\n",
    "    team_abbrv = row['team_abbrv']\n",
    "\n",
    "    # r = request.get(url_template.formatrow['team_abbrv'].lower(), year, row['team_url_name'])\n",
    "    # schedule_table = BeautifulSoup(r.text).table\n",
    "    # url = url_template.format(\n",
    "    #     team_abbrv.lower(), year, row['team_url_name'])\n",
    "    url = url_template.format(\n",
    "        team_abbrv.lower(), year)\n",
    "    html = urlopen(url)\n",
    "    soup = BeautifulSoup(html, 'html.parser')\n",
    "\n",
    "    # schedule_table = soup.table\n",
    "    sched_data = soup.find_all(\n",
    "        name='tr', attrs={'class': re.compile('row')})\n",
    "\n",
    "    for row in sched_data:\n",
    "        cols = row.find_all('td')\n",
    "\n",
    "        scores_dict['season_yr'].append(year)\n",
    "\n",
    "        scores_dict['team_schedule'].append(team_abbrv)\n",
    "\n",
    "        home_bool = True if cols[1].li.text == 'vs' else False\n",
    "        scores_dict['home_flag'].append('1' if home_bool else '0')\n",
    "\n",
    "        # text == '@' if team is away_team\n",
    "        # other_team = cols[1].find_all('a')[1].text\n",
    "        other_team_abbrv = cols[1].find_all('a')[1]['href'].split('/')[-2]\n",
    "\n",
    "        home_team = team_abbrv if home_bool else other_team_abbrv\n",
    "        home_team = home_team.upper()\n",
    "        scores_dict['home_team'].append(home_team)\n",
    "\n",
    "        away_team = team_abbrv if not home_bool else other_team_abbrv\n",
    "        away_team = away_team.upper()\n",
    "        scores_dict['away_team'].append(away_team)\n",
    "\n",
    "        try:\n",
    "            date_raw = cols[0].text\n",
    "            date_nums = datetime.strptime(date_raw, '%a, %b %d')\n",
    "            date_month = date_nums.month\n",
    "            date_day = date_nums.day\n",
    "\n",
    "            if date_month > 7:\n",
    "                date_fixed = date(year-1, date_month, date_day)\n",
    "            else:\n",
    "                date_fixed = date(year, date_month, date_day)\n",
    "\n",
    "        except Exception as error:\n",
    "            # print error\n",
    "            # exception for leap year\n",
    "            date_fixed = date(year, 2, 29)\n",
    "\n",
    "        game_date = date_fixed.strftime('%m/%d/%Y')\n",
    "        scores_dict['game_date'].append(game_date)\n",
    "\n",
    "        try:\n",
    "            scores_dict['game_id'].append(\n",
    "                cols[2].a['href'].split('recap?id=')[1])\n",
    "\n",
    "            win_bool = True if cols[2].span.text == 'W' else False\n",
    "            scores_dict['win_flag'].append('1' if win_bool else '0')\n",
    "\n",
    "            wl_record = cols[3].text.split('-')\n",
    "            scores_dict['wins_to_date'].append(wl_record[0])\n",
    "            scores_dict['losses_to_date'].append(wl_record[1])\n",
    "\n",
    "            # split(' ') is to ignore possible 'OT' label\n",
    "            both_scores = cols[2].a.text.split(' ')[0].split('-')\n",
    "            if home_bool:\n",
    "                if win_bool:\n",
    "                    scores_dict['home_score'].append(both_scores[0])\n",
    "                    scores_dict['away_score'].append(both_scores[1])\n",
    "                else:\n",
    "                    scores_dict['home_score'].append(both_scores[1])\n",
    "                    scores_dict['away_score'].append(both_scores[0])\n",
    "            else:\n",
    "                if win_bool:\n",
    "                    scores_dict['home_score'].append(both_scores[1])\n",
    "                    scores_dict['away_score'].append(both_scores[0])\n",
    "                else:\n",
    "                    scores_dict['home_score'].append(both_scores[0])\n",
    "                    scores_dict['away_score'].append(both_scores[1])\n",
    "        except Exception as error:\n",
    "            # error for games in the future that have not been played\n",
    "            # error for games in the past that have been postponed\n",
    "            # print error\n",
    "            default_str = 'N/A'\n",
    "            scores_dict['game_id'].append(default_str)\n",
    "            scores_dict['win_flag'].append(default_str)\n",
    "            scores_dict['wins_to_date'].append(default_str)\n",
    "            scores_dict['losses_to_date'].append(default_str)\n",
    "            scores_dict['home_score'].append(default_str)\n",
    "            scores_dict['away_score'].append(default_str)\n",
    "            # pass\n",
    "\n",
    "    end = datetime.now()\n",
    "    time_diff = end - start\n",
    "    print(\"Finished getting scores for {0} in {1} s\".format(team_abbrv, time_diff))\n",
    "    \n",
    "end_all = datetime.now()\n",
    "time_diff_all = end_all - start_all\n",
    "print(\"Finished getting all scores for {0} in {1} s\".format(year, time_diff_all))\n",
    "\n",
    "for key, value in scores_dict.items():\n",
    "    print(key, len(value))"
   ]
  },
  {
   "cell_type": "code",
   "execution_count": 61,
   "metadata": {
    "collapsed": false
   },
   "outputs": [
    {
     "name": "stdout",
     "output_type": "stream",
     "text": [
      "OrderedDict([('game_id', ['N/A', 'N/A', 'N/A', 'N/A', 'N/A', 'N/A', 'N/A', 'N/A', 'N/A', 'N/A', 'N/A', 'N/A', 'N/A', 'N/A', 'N/A', 'N/A', 'N/A', 'N/A', 'N/A', 'N/A', 'N/A', 'N/A', 'N/A', 'N/A', 'N/A', 'N/A', 'N/A', 'N/A', 'N/A', 'N/A', 'N/A', 'N/A', 'N/A', 'N/A', 'N/A', 'N/A', 'N/A', 'N/A', 'N/A', 'N/A', 'N/A', 'N/A', 'N/A', 'N/A', 'N/A', 'N/A', 'N/A', 'N/A', 'N/A', 'N/A', 'N/A', 'N/A', 'N/A', 'N/A', 'N/A', 'N/A', 'N/A', 'N/A', 'N/A', 'N/A', 'N/A', 'N/A', 'N/A', 'N/A', 'N/A', 'N/A', 'N/A', 'N/A', 'N/A', 'N/A', 'N/A', 'N/A', 'N/A', 'N/A', 'N/A', 'N/A', 'N/A', 'N/A', 'N/A', 'N/A', 'N/A', 'N/A']), ('season_yr', [2015, 2015, 2015, 2015, 2015, 2015, 2015, 2015, 2015, 2015, 2015, 2015, 2015, 2015, 2015, 2015, 2015, 2015, 2015, 2015, 2015, 2015, 2015, 2015, 2015, 2015, 2015, 2015, 2015, 2015, 2015, 2015, 2015, 2015, 2015, 2015, 2015, 2015, 2015, 2015, 2015, 2015, 2015, 2015, 2015, 2015, 2015, 2015, 2015, 2015, 2015, 2015, 2015, 2015, 2015, 2015, 2015, 2015, 2015, 2015, 2015, 2015, 2015, 2015, 2015, 2015, 2015, 2015, 2015, 2015, 2015, 2015, 2015, 2015, 2015, 2015, 2015, 2015, 2015, 2015, 2015, 2015]), ('game_date', ['10/29/2014', '11/01/2014', '11/05/2014', '11/07/2014', '11/08/2014', '11/10/2014', '11/12/2014', '11/14/2014', '11/15/2014', '11/18/2014', '11/21/2014', '11/25/2014', '11/26/2014', '11/28/2014', '11/29/2014', '12/02/2014', '12/03/2014', '12/05/2014', '12/07/2014', '12/08/2014', '12/10/2014', '12/12/2014', '12/13/2014', '12/15/2014', '12/17/2014', '12/20/2014', '12/22/2014', '12/23/2014', '12/26/2014', '12/27/2014', '12/30/2014', '01/02/2015', '01/03/2015', '01/05/2015', '01/07/2015', '01/09/2015', '01/11/2015', '01/13/2015', '01/14/2015', '01/16/2015', '01/17/2015', '01/19/2015', '01/21/2015', '01/23/2015', '01/25/2015', '01/28/2015', '01/30/2015', '01/31/2015', '02/02/2015', '02/04/2015', '02/06/2015', '02/08/2015', '02/09/2015', '02/11/2015', '02/20/2015', '02/22/2015', '02/25/2015', '02/27/2015', '02/28/2015', '03/03/2015', '03/06/2015', '03/07/2015', '03/09/2015', '03/11/2015', '03/13/2015', '03/15/2015', '03/16/2015', '03/18/2015', '03/20/2015', '03/22/2015', '03/25/2015', '03/27/2015', '03/28/2015', '03/30/2015', '03/31/2015', '04/04/2015', '04/07/2015', '04/08/2015', '04/10/2015', '04/12/2015', '04/13/2015', '04/15/2015']), ('team_schedule', ['ATL', 'ATL', 'ATL', 'ATL', 'ATL', 'ATL', 'ATL', 'ATL', 'ATL', 'ATL', 'ATL', 'ATL', 'ATL', 'ATL', 'ATL', 'ATL', 'ATL', 'ATL', 'ATL', 'ATL', 'ATL', 'ATL', 'ATL', 'ATL', 'ATL', 'ATL', 'ATL', 'ATL', 'ATL', 'ATL', 'ATL', 'ATL', 'ATL', 'ATL', 'ATL', 'ATL', 'ATL', 'ATL', 'ATL', 'ATL', 'ATL', 'ATL', 'ATL', 'ATL', 'ATL', 'ATL', 'ATL', 'ATL', 'ATL', 'ATL', 'ATL', 'ATL', 'ATL', 'ATL', 'ATL', 'ATL', 'ATL', 'ATL', 'ATL', 'ATL', 'ATL', 'ATL', 'ATL', 'ATL', 'ATL', 'ATL', 'ATL', 'ATL', 'ATL', 'ATL', 'ATL', 'ATL', 'ATL', 'ATL', 'ATL', 'ATL', 'ATL', 'ATL', 'ATL', 'ATL', 'ATL', 'ATL']), ('win_flag', ['N/A', 'N/A', 'N/A', 'N/A', 'N/A', 'N/A', 'N/A', 'N/A', 'N/A', 'N/A', 'N/A', 'N/A', 'N/A', 'N/A', 'N/A', 'N/A', 'N/A', 'N/A', 'N/A', 'N/A', 'N/A', 'N/A', 'N/A', 'N/A', 'N/A', 'N/A', 'N/A', 'N/A', 'N/A', 'N/A', 'N/A', 'N/A', 'N/A', 'N/A', 'N/A', 'N/A', 'N/A', 'N/A', 'N/A', 'N/A', 'N/A', 'N/A', 'N/A', 'N/A', 'N/A', 'N/A', 'N/A', 'N/A', 'N/A', 'N/A', 'N/A', 'N/A', 'N/A', 'N/A', 'N/A', 'N/A', 'N/A', 'N/A', 'N/A', 'N/A', 'N/A', 'N/A', 'N/A', 'N/A', 'N/A', 'N/A', 'N/A', 'N/A', 'N/A', 'N/A', 'N/A', 'N/A', 'N/A', 'N/A', 'N/A', 'N/A', 'N/A', 'N/A', 'N/A', 'N/A', 'N/A', 'N/A']), ('wins_to_date', ['N/A', 'N/A', 'N/A', 'N/A', 'N/A', 'N/A', 'N/A', 'N/A', 'N/A', 'N/A', 'N/A', 'N/A', 'N/A', 'N/A', 'N/A', 'N/A', 'N/A', 'N/A', 'N/A', 'N/A', 'N/A', 'N/A', 'N/A', 'N/A', 'N/A', 'N/A', 'N/A', 'N/A', 'N/A', 'N/A', 'N/A', 'N/A', 'N/A', 'N/A', 'N/A', 'N/A', 'N/A', 'N/A', 'N/A', 'N/A', 'N/A', 'N/A', 'N/A', 'N/A', 'N/A', 'N/A', 'N/A', 'N/A', 'N/A', 'N/A', 'N/A', 'N/A', 'N/A', 'N/A', 'N/A', 'N/A', 'N/A', 'N/A', 'N/A', 'N/A', 'N/A', 'N/A', 'N/A', 'N/A', 'N/A', 'N/A', 'N/A', 'N/A', 'N/A', 'N/A', 'N/A', 'N/A', 'N/A', 'N/A', 'N/A', 'N/A', 'N/A', 'N/A', 'N/A', 'N/A', 'N/A', 'N/A']), ('losses_to_date', ['N/A', 'N/A', 'N/A', 'N/A', 'N/A', 'N/A', 'N/A', 'N/A', 'N/A', 'N/A', 'N/A', 'N/A', 'N/A', 'N/A', 'N/A', 'N/A', 'N/A', 'N/A', 'N/A', 'N/A', 'N/A', 'N/A', 'N/A', 'N/A', 'N/A', 'N/A', 'N/A', 'N/A', 'N/A', 'N/A', 'N/A', 'N/A', 'N/A', 'N/A', 'N/A', 'N/A', 'N/A', 'N/A', 'N/A', 'N/A', 'N/A', 'N/A', 'N/A', 'N/A', 'N/A', 'N/A', 'N/A', 'N/A', 'N/A', 'N/A', 'N/A', 'N/A', 'N/A', 'N/A', 'N/A', 'N/A', 'N/A', 'N/A', 'N/A', 'N/A', 'N/A', 'N/A', 'N/A', 'N/A', 'N/A', 'N/A', 'N/A', 'N/A', 'N/A', 'N/A', 'N/A', 'N/A', 'N/A', 'N/A', 'N/A', 'N/A', 'N/A', 'N/A', 'N/A', 'N/A', 'N/A', 'N/A']), ('home_flag', ['0', '1', '0', '0', '1', '0', '1', '1', '0', '1', '1', '0', '1', '1', '1', '1', '0', '0', '1', '0', '1', '1', '0', '1', '0', '0', '0', '1', '1', '0', '1', '0', '0', '0', '1', '0', '1', '0', '0', '0', '0', '1', '1', '1', '1', '1', '1', '1', '0', '1', '1', '0', '0', '0', '1', '0', '1', '1', '0', '1', '1', '0', '1', '0', '0', '0', '0', '0', '0', '1', '0', '1', '0', '1', '0', '1', '1', '0', '1', '0', '1', '0']), ('home_team', ['TOR', 'ATL', 'SA', 'CHA', 'ATL', 'NY', 'ATL', 'ATL', 'CLE', 'ATL', 'ATL', 'WSH', 'ATL', 'ATL', 'ATL', 'ATL', 'MIA', 'BKN', 'ATL', 'IND', 'ATL', 'ATL', 'ORL', 'ATL', 'CLE', 'HOU', 'DAL', 'ATL', 'ATL', 'MIL', 'ATL', 'UTAH', 'POR', 'LAC', 'ATL', 'DET', 'ATL', 'PHI', 'BOS', 'TOR', 'CHI', 'ATL', 'ATL', 'ATL', 'ATL', 'ATL', 'ATL', 'ATL', 'NO', 'ATL', 'ATL', 'MEM', 'MIN', 'BOS', 'ATL', 'MIL', 'ATL', 'ATL', 'MIA', 'ATL', 'ATL', 'PHI', 'ATL', 'DEN', 'PHX', 'LAL', 'SAC', 'GS', 'OKC', 'ATL', 'ORL', 'ATL', 'CHA', 'ATL', 'DET', 'ATL', 'ATL', 'BKN', 'ATL', 'WSH', 'ATL', 'CHI']), ('home_score', ['N/A', 'N/A', 'N/A', 'N/A', 'N/A', 'N/A', 'N/A', 'N/A', 'N/A', 'N/A', 'N/A', 'N/A', 'N/A', 'N/A', 'N/A', 'N/A', 'N/A', 'N/A', 'N/A', 'N/A', 'N/A', 'N/A', 'N/A', 'N/A', 'N/A', 'N/A', 'N/A', 'N/A', 'N/A', 'N/A', 'N/A', 'N/A', 'N/A', 'N/A', 'N/A', 'N/A', 'N/A', 'N/A', 'N/A', 'N/A', 'N/A', 'N/A', 'N/A', 'N/A', 'N/A', 'N/A', 'N/A', 'N/A', 'N/A', 'N/A', 'N/A', 'N/A', 'N/A', 'N/A', 'N/A', 'N/A', 'N/A', 'N/A', 'N/A', 'N/A', 'N/A', 'N/A', 'N/A', 'N/A', 'N/A', 'N/A', 'N/A', 'N/A', 'N/A', 'N/A', 'N/A', 'N/A', 'N/A', 'N/A', 'N/A', 'N/A', 'N/A', 'N/A', 'N/A', 'N/A', 'N/A', 'N/A']), ('away_team', ['ATL', 'IND', 'ATL', 'ATL', 'NY', 'ATL', 'UTAH', 'MIA', 'ATL', 'LAL', 'DET', 'ATL', 'TOR', 'NO', 'CHA', 'BOS', 'ATL', 'ATL', 'DEN', 'ATL', 'PHI', 'ORL', 'ATL', 'CHI', 'ATL', 'ATL', 'ATL', 'LAC', 'MIL', 'ATL', 'CLE', 'ATL', 'ATL', 'ATL', 'MEM', 'ATL', 'WSH', 'ATL', 'ATL', 'ATL', 'ATL', 'DET', 'IND', 'OKC', 'MIN', 'BKN', 'POR', 'PHI', 'ATL', 'WSH', 'GS', 'ATL', 'ATL', 'ATL', 'TOR', 'ATL', 'DAL', 'ORL', 'ATL', 'HOU', 'CLE', 'ATL', 'SAC', 'ATL', 'ATL', 'ATL', 'ATL', 'ATL', 'ATL', 'SA', 'ATL', 'MIA', 'ATL', 'MIL', 'ATL', 'BKN', 'PHX', 'ATL', 'CHA', 'ATL', 'NY', 'ATL']), ('away_score', ['N/A', 'N/A', 'N/A', 'N/A', 'N/A', 'N/A', 'N/A', 'N/A', 'N/A', 'N/A', 'N/A', 'N/A', 'N/A', 'N/A', 'N/A', 'N/A', 'N/A', 'N/A', 'N/A', 'N/A', 'N/A', 'N/A', 'N/A', 'N/A', 'N/A', 'N/A', 'N/A', 'N/A', 'N/A', 'N/A', 'N/A', 'N/A', 'N/A', 'N/A', 'N/A', 'N/A', 'N/A', 'N/A', 'N/A', 'N/A', 'N/A', 'N/A', 'N/A', 'N/A', 'N/A', 'N/A', 'N/A', 'N/A', 'N/A', 'N/A', 'N/A', 'N/A', 'N/A', 'N/A', 'N/A', 'N/A', 'N/A', 'N/A', 'N/A', 'N/A', 'N/A', 'N/A', 'N/A', 'N/A', 'N/A', 'N/A', 'N/A', 'N/A', 'N/A', 'N/A', 'N/A', 'N/A', 'N/A', 'N/A', 'N/A', 'N/A', 'N/A', 'N/A', 'N/A', 'N/A', 'N/A', 'N/A'])])\n"
     ]
    }
   ],
   "source": [
    "print(scores_dict)"
   ]
  },
  {
   "cell_type": "code",
   "execution_count": null,
   "metadata": {
    "collapsed": true
   },
   "outputs": [],
   "source": []
  }
 ],
 "metadata": {
  "kernelspec": {
   "display_name": "Python 3",
   "language": "python",
   "name": "python3"
  },
  "language_info": {
   "codemirror_mode": {
    "name": "ipython",
    "version": 3
   },
   "file_extension": ".py",
   "mimetype": "text/x-python",
   "name": "python",
   "nbconvert_exporter": "python",
   "pygments_lexer": "ipython3",
   "version": "3.6.0"
  }
 },
 "nbformat": 4,
 "nbformat_minor": 2
}
