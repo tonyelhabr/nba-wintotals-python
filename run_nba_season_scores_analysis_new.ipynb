{
 "cells": [
  {
   "cell_type": "code",
   "execution_count": null,
   "metadata": {
    "collapsed": false
   },
   "outputs": [],
   "source": [
    "# import os\n",
    "from collections import OrderedDict\n",
    "from datetime import datetime, date\n",
    "import numpy as np\n",
    "import pandas as pd"
   ]
  },
  {
   "cell_type": "code",
   "execution_count": 63,
   "metadata": {
    "collapsed": true
   },
   "outputs": [],
   "source": [
    "# Globals\n",
    "HOME_HANDICAP = 4\n",
    "NUM_TEAMS = 30\n",
    "DEFAULT_CONFIDENCE = float((NUM_TEAMS + 1) / 2)"
   ]
  },
  {
   "cell_type": "code",
   "execution_count": null,
   "metadata": {
    "collapsed": false
   },
   "outputs": [],
   "source": [
    "year = 2015\n",
    "sched_f = \"csvs\\\\nba_season_scores_{0}.csv\".format(year)\n",
    "wt_f = \"csvs\\\\nba_season_win_totals_{0}.csv\".format(year)"
   ]
  },
  {
   "cell_type": "code",
   "execution_count": null,
   "metadata": {
    "collapsed": false
   },
   "outputs": [],
   "source": [
    "sched_df = pd.read_csv(sched_f)\n",
    "# sched_df.sort_values(by=[\"game_id\",\"game_date\"]).head()"
   ]
  },
  {
   "cell_type": "code",
   "execution_count": null,
   "metadata": {
    "collapsed": false
   },
   "outputs": [],
   "source": [
    "wt_df = pd.read_csv(wt_f) #, index_col=False)"
   ]
  },
  {
   "cell_type": "code",
   "execution_count": null,
   "metadata": {
    "collapsed": false
   },
   "outputs": [],
   "source": [
    "tms_all = wt_df['team_abbrv']\n",
    "# tms_all = tms_all[:5]"
   ]
  },
  {
   "cell_type": "code",
   "execution_count": null,
   "metadata": {
    "collapsed": false
   },
   "outputs": [],
   "source": [
    "tm_results_dict_keys = ['team_abbrv', 'sum_win', 'sum_loss']\n",
    "tm_results_dict = OrderedDict((key, []) for key in tm_results_dict_keys)\n"
   ]
  },
  {
   "cell_type": "code",
   "execution_count": null,
   "metadata": {
    "collapsed": false
   },
   "outputs": [],
   "source": [
    "model_dict_keys = ['game_pick', 'game_pick_correct_flag', 'game_win_flag',\n",
    "                       'game_loss_flag', 'sum_win', 'sum_loss', 'sum_error', 'wt_pick_correct_flag']\n",
    "model_dict = OrderedDict((key, []) for key in model_dict_keys)"
   ]
  },
  {
   "cell_type": "code",
   "execution_count": null,
   "metadata": {
    "collapsed": false
   },
   "outputs": [],
   "source": [
    "# for t in tms_all:\n",
    "time_start = datetime.now()\n",
    "\n",
    "t = tm_all[0]"
   ]
  },
  {
   "cell_type": "code",
   "execution_count": null,
   "metadata": {
    "collapsed": false
   },
   "outputs": [],
   "source": [
    "# Need tmo convert type from pandas.series to float.\n",
    "tm_wt = floatm(wtm_df.loc[wtm_df['team_abbrv'] == tm]['win_total'])\n",
    "tm_df = sched_df.loc[sched_df['team_schedule'] == tm]\n",
    "\n",
    "sum_win_actmual = tm_df['wins_to_date'].iloc[-1]\n",
    "actmual_sum_loss_num = tm_df['losses_to_datm'].iloc[-1]\n",
    "\n",
    "sum_win_model = sum(model_dict['game_win_flag'])\n",
    "sum_loss_model = sum(model_dict['game_loss_flag'])"
   ]
  },
  {
   "cell_type": "code",
   "execution_count": null,
   "metadata": {
    "collapsed": true
   },
   "outputs": [],
   "source": [
    "# Use preseason win total to determine winner.\n",
    "def get_winner_simple1(tm1, tm2, home_flag, tm1_wt, tm2_wt):\n",
    "    if (tm1_wt > tm2_wt) or (tm1_wt == tm2_wt and home_flag):\n",
    "        return tm1\n",
    "    else:\n",
    "        return tm2\n",
    "\n",
    "# Use win total to date to determine winner.\n",
    "def get_winner_simple2(tm1, tm2, home_flag, tm1_wins_to_date, game_date, scores_df):\n",
    "    tm2_df = scores_df.loc[scores_df['team_schedule'] == tm2]\n",
    "    tm2_wins_to_date = int(\n",
    "        tm2_df.loc[tm2_df['game_date'] == game_date]['wins_to_date'])\n",
    "\n",
    "    if (tm1_wins_to_date > tm2_wins_to_date) or (tm1_wins_to_date == tm2_wins_to_date and home_flag):\n",
    "        return tm1\n",
    "    else:\n",
    "        return tm2\n"
   ]
  },
  {
   "cell_type": "code",
   "execution_count": null,
   "metadata": {
    "collapsed": true
   },
   "outputs": [],
   "source": [
    "def get_model_tm_mu(person, wt_df, tm, tm_wt, tm_sched, home_flag):\n",
    "    try:\n",
    "        model_wt_pick_flag = str(\n",
    "            wt_df.loc[wt_df['team_abbrv'] == tm]['{0}_win_total_pick_flag'.format(person)])\n",
    "        # account for case in which number (in addition to 'o' or 'u') is gven for win total\n",
    "        # model_wt_pick_num = int(wt_df.loc[wt_df['team_abbrv'] == t]['model_win_total_pick_num'])\n",
    "\n",
    "        if model_wt_pick_flag == 'o':\n",
    "            # use number above team's win total if 'over'\n",
    "            mu = int(round(tm_wt+1))\n",
    "        else:\n",
    "            # use number below team's win total if 'under'\n",
    "            mu = int(round(tm_wt))\n",
    "\n",
    "    except Exception as e:\n",
    "        # print e\n",
    "        mu = float(tm_wt)\n",
    "\n",
    "    # tm == tm_sched if it is the tm that is currently being analyzed.\n",
    "    if tm == tm_sched:\n",
    "        # print \"Debugging: home_flag type is {0}\".format(type(home_flag))\n",
    "        if home_flag == 1:\n",
    "            mu += float(HOME_HANDICAP/2)\n",
    "        elif home_flag == 0:\n",
    "            mu -= float(HOME_HANDICAP/2)\n",
    "    else:\n",
    "        if home_flag == 0:\n",
    "            mu += float(HOME_HANDICAP/2)\n",
    "        elif home_flag == 1:\n",
    "            mu -= float(HOME_HANDICAP/2)\n",
    "\n",
    "    return mu\n",
    "\n",
    "\n",
    "def get_model_tm_sigma(wt_df, tm, num_teams):\n",
    "    # DEFAULT_CONFIDENCE = float((NUM_TEAMS + 1) / 2)\n",
    "    try:\n",
    "        model_wt_confidence = int(\n",
    "            wt_df.loc[wt_df['team_abbrv'] == tm]['model_win_total_confidence'])\n",
    "\n",
    "        # account for 'model_win_total_confidence' = None in older\n",
    "        # 'nba-season-win-totals-yyyy.csv' files\n",
    "        if model_wt_confidence == None:\n",
    "            model_wt_confidence = DEFAULT_CONFIDENCE\n",
    "            # print \"No 'model_win_total_confidence' for {0}\".format(t)\n",
    "            # print \"Using a default value\"\n",
    "\n",
    "    except Exception as e:\n",
    "        # print e\n",
    "        model_wt_confidence = DEFAULT_CONFIDENCE\n",
    "\n",
    "    return float((num_teams+1)-model_wt_confidence)\n",
    "\n",
    "\n",
    "def get_model_tm_wt_pick(mu, sigma):\n",
    "    return sigma * np.random.randn() + mu"
   ]
  },
  {
   "cell_type": "code",
   "execution_count": null,
   "metadata": {
    "collapsed": true
   },
   "outputs": [],
   "source": [
    "def get_model3_game_winner(this_t, other_t, this_t_wt, other_t_wt, home_flag, wt_df, num_teams, model3_dict2):\n",
    "    # mean of normal distribution\n",
    "    this_t_mu_num = get_model3_mu_num(\n",
    "        wt_df, this_t, this_t_wt, this_t, home_flag)\n",
    "    other_t_mu_num = get_model3_mu_num(\n",
    "        wt_df, other_t, other_t_wt, this_t, home_flag)\n",
    "\n",
    "    # standard deviation of normal distribution\n",
    "    this_t_sigma_num = get_model3_sigma_num(wt_df, this_t, num_teams)\n",
    "    other_t_sigma_num = get_model3_sigma_num(wt_df, other_t, num_teams)\n",
    "\n",
    "    # calculate normal distribution N(mu, sigma^2)\n",
    "    this_t_wt_pick_num = get_model3_wt_pick_num(\n",
    "        this_t_mu_num, this_t_sigma_num)\n",
    "    other_t_wt_pick_num = get_model3_wt_pick_num(\n",
    "        other_t_mu_num, other_t_sigma_num)\n",
    "\n",
    "    update_model3_dict2_for_game(model3_dict2, this_t_mu_num, this_t_sigma_num,\n",
    "                                 this_t_wt_pick_num, this_t, this_t)\n",
    "    update_model3_dict2_for_game(\n",
    "        model3_dict2, other_t_mu_num, other_t_sigma_num, other_t_wt_pick_num, other_t, this_t)\n",
    "\n",
    "    if (this_t_wt_pick_num > other_t_wt_pick_num) or (this_t_wt_pick_num == other_t_wt_pick_num and home_flag):\n",
    "        return this_t\n",
    "    else:\n",
    "        return other_t"
   ]
  },
  {
   "cell_type": "code",
   "execution_count": null,
   "metadata": {
    "collapsed": false
   },
   "outputs": [],
   "source": [
    "for index, row in tm_df.iterrows():\n",
    "    home_flag = int(row.loc['home_flag'])\n",
    "    win_flag = int(row.loc['win_flag'])\n",
    "\n",
    "    # Identify if tm is home or away.\n",
    "    if home_flag == 1:\n",
    "        tm2 = row.loc['away_team']\n",
    "    else:\n",
    "        tm2 = row.loc['home_team']\n",
    "\n",
    "    # need to convert type from pandas.series to float\n",
    "    tm2_wt = float(\n",
    "        wt_df.loc[wt_df['team_abbrv'] == tm2]['win_total'])"
   ]
  }
 ],
 "metadata": {
  "celltoolbar": "Raw Cell Format",
  "kernelspec": {
   "display_name": "Python 3",
   "language": "python",
   "name": "python3"
  },
  "language_info": {
   "codemirror_mode": {
    "name": "ipython",
    "version": 3
   },
   "file_extension": ".py",
   "mimetype": "text/x-python",
   "name": "python",
   "nbconvert_exporter": "python",
   "pygments_lexer": "ipython3",
   "version": "3.6.0"
  }
 },
 "nbformat": 4,
 "nbformat_minor": 2
}
