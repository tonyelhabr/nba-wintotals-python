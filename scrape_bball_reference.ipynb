{
 "cells": [
  {
   "cell_type": "code",
   "execution_count": 3,
   "metadata": {
    "collapsed": true
   },
   "outputs": [],
   "source": [
    "from urllib.request import urlopen\n",
    "import pandas as pd\n",
    "from bs4 import BeautifulSoup\n",
    "import re\n",
    "import os\n",
    "from collections import OrderedDict\n",
    "from datetime import datetime, date\n",
    "import csv"
   ]
  },
  {
   "cell_type": "code",
   "execution_count": 4,
   "metadata": {
    "collapsed": true
   },
   "outputs": [],
   "source": [
    "year = 2017\n",
    "url_template = \"http://www.basketball-reference.com/leagues/NBA_{0}.html\""
   ]
  },
  {
   "cell_type": "code",
   "execution_count": 5,
   "metadata": {
    "collapsed": false
   },
   "outputs": [],
   "source": [
    "teams_f = \"csvs\\\\nba_teams.csv\"\n",
    "teams_df = pd.read_csv(teams_f, index_col=False)\n",
    "all_teams = list(teams_df.team_abbrv.values.flatten())\n",
    "# timestamp = get_timestamp()\n",
    "# scores_f = 'csvs\\\\nba-season-scores-{0}.csv'.format(year)"
   ]
  },
  {
   "cell_type": "code",
   "execution_count": 6,
   "metadata": {
    "collapsed": false
   },
   "outputs": [
    {
     "data": {
      "text/html": [
       "<div>\n",
       "<table border=\"1\" class=\"dataframe\">\n",
       "  <thead>\n",
       "    <tr style=\"text-align: right;\">\n",
       "      <th></th>\n",
       "      <th>team_name</th>\n",
       "      <th>team_abbrv</th>\n",
       "      <th>team_url_name</th>\n",
       "      <th>team_url</th>\n",
       "    </tr>\n",
       "  </thead>\n",
       "  <tbody>\n",
       "    <tr>\n",
       "      <th>0</th>\n",
       "      <td>Atlanta Hawks</td>\n",
       "      <td>ATL</td>\n",
       "      <td>atlanta-hawks</td>\n",
       "      <td>http://espn.go.com/nba/team/_/name/atl/atlanta...</td>\n",
       "    </tr>\n",
       "  </tbody>\n",
       "</table>\n",
       "</div>"
      ],
      "text/plain": [
       "       team_name team_abbrv  team_url_name  \\\n",
       "0  Atlanta Hawks        ATL  atlanta-hawks   \n",
       "\n",
       "                                            team_url  \n",
       "0  http://espn.go.com/nba/team/_/name/atl/atlanta...  "
      ]
     },
     "execution_count": 6,
     "metadata": {},
     "output_type": "execute_result"
    }
   ],
   "source": [
    "teams_df = teams_df.iloc[0:1,]\n",
    "teams_df"
   ]
  },
  {
   "cell_type": "code",
   "execution_count": 7,
   "metadata": {
    "collapsed": false
   },
   "outputs": [],
   "source": [
    "row = teams_df\n",
    "team_abbrv = row['team_abbrv']\n",
    "url = url_template.format(year)\n",
    "html = urlopen(url)\n",
    "soup = BeautifulSoup(html, 'html.parser')\n"
   ]
  },
  {
   "cell_type": "code",
   "execution_count": 98,
   "metadata": {
    "collapsed": false
   },
   "outputs": [],
   "source": [
    "t = soup.find_all('tr', attrs={'class': re.compile('table')})"
   ]
  },
  {
   "cell_type": "code",
   "execution_count": 117,
   "metadata": {
    "collapsed": false
   },
   "outputs": [
    {
     "data": {
      "text/plain": [
       "[<td class=\"right \" data-stat=\"wins\">33</td>,\n",
       " <td class=\"right \" data-stat=\"losses\">49</td>,\n",
       " <td class=\"right \" data-stat=\"win_loss_pct\">.402</td>,\n",
       " <td class=\"right \" data-stat=\"gb\">28.0</td>,\n",
       " <td class=\"right \" data-stat=\"pts_per_g\">97.9</td>,\n",
       " <td class=\"right \" data-stat=\"opp_pts_per_g\">100.8</td>,\n",
       " <td class=\"right \" data-stat=\"srs\">-2.53</td>]"
      ]
     },
     "execution_count": 117,
     "metadata": {},
     "output_type": "execute_result"
    }
   ],
   "source": [
    "t[-1].find_all('td')"
   ]
  },
  {
   "cell_type": "code",
   "execution_count": 103,
   "metadata": {
    "collapsed": false
   },
   "outputs": [
    {
     "data": {
      "text/plain": [
       "bs4.element.ResultSet"
      ]
     },
     "execution_count": 103,
     "metadata": {},
     "output_type": "execute_result"
    }
   ],
   "source": [
    "type(t)"
   ]
  },
  {
   "cell_type": "code",
   "execution_count": 110,
   "metadata": {
    "collapsed": false
   },
   "outputs": [
    {
     "data": {
      "text/plain": [
       "(60, 8)"
      ]
     },
     "execution_count": 110,
     "metadata": {},
     "output_type": "execute_result"
    }
   ],
   "source": [
    "df = pd.DataFrame(t)\n",
    "df.shape"
   ]
  },
  {
   "cell_type": "code",
   "execution_count": 121,
   "metadata": {
    "collapsed": false
   },
   "outputs": [],
   "source": [
    "a = soup.find_all(name='th')"
   ]
  },
  {
   "cell_type": "code",
   "execution_count": 123,
   "metadata": {
    "collapsed": false
   },
   "outputs": [
    {
     "data": {
      "text/plain": [
       "<th class=\"left \" data-stat=\"team_name\" scope=\"row\"><a href=\"/teams/DAL/2017.html\">Dallas Mavericks</a> <span class=\"seed\">(11) </span></th>"
      ]
     },
     "execution_count": 123,
     "metadata": {},
     "output_type": "execute_result"
    }
   ],
   "source": [
    "a[-1]"
   ]
  },
  {
   "cell_type": "code",
   "execution_count": null,
   "metadata": {
    "collapsed": true
   },
   "outputs": [],
   "source": []
  }
 ],
 "metadata": {
  "kernelspec": {
   "display_name": "Python 3",
   "language": "python",
   "name": "python3"
  },
  "language_info": {
   "codemirror_mode": {
    "name": "ipython",
    "version": 3
   },
   "file_extension": ".py",
   "mimetype": "text/x-python",
   "name": "python",
   "nbconvert_exporter": "python",
   "pygments_lexer": "ipython3",
   "version": "3.6.0"
  }
 },
 "nbformat": 4,
 "nbformat_minor": 2
}
